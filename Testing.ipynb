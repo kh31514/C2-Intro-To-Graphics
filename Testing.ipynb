{
   "cells": [
      {
         "cell_type": "code",
         "execution_count": 24,
         "id": "a6d1f6e6",
         "metadata": {},
         "outputs": [],
         "source": [
            "from ExampleSceneDef import *\n",
            "from PIL import Image"
         ]
      },
      {
         "cell_type": "code",
         "execution_count": null,
         "id": "f6b4a5fb",
         "metadata": {},
         "outputs": [],
         "source": []
      },
      {
         "cell_type": "markdown",
         "id": "9c95e9a5",
         "metadata": {},
         "source": [
            "### Step 0\n",
            "When you have completed Step 0 your the image below should look like:\n",
            "![Step0](./ref/step0.png)"
         ]
      },
      {
         "cell_type": "code",
         "execution_count": 13,
         "id": "a98a17ae",
         "metadata": {},
         "outputs": [
            {
               "name": "stdout",
               "output_type": "stream",
               "text": [
                  "<ImLite.Image object at 0x7fc661365840>\n"
               ]
            },
            {
               "data": {
                  "image/png": "[encoded data removed]",
                  "text/plain": [
                     "<Figure size 640x480 with 1 Axes>"
                  ]
               },
               "metadata": {},
               "output_type": "display_data"
            }
         ],
         "source": [
            "im = OrthoFriendlyExample().render()\n",
            "im.show()\n",
            "ref_array = np.array(Image.open(\"./ref/step0.png\"))\n",
            "#diff = ref_array-np.array(im.getdata())\n",
            "print(im)\n",
            "#im.writeToFile(\"OrthoFriendlyExample.png\")\n",
            "# TODO: testing here to compare the 2 images"
         ]
      },
      {
         "cell_type": "code",
         "execution_count": null,
         "id": "6955ddb5",
         "metadata": {},
         "outputs": [],
         "source": []
      },
      {
         "cell_type": "markdown",
         "id": "71215446",
         "metadata": {},
         "source": [
            "### Step 1\n",
            "When you have completed Step 0 your the image below should look like:\n",
            "![Step1](./ref/step1.png)"
         ]
      },
      {
         "cell_type": "code",
         "execution_count": 25,
         "id": "ae1211ee",
         "metadata": {
            "scrolled": false
         },
         "outputs": [
            {
               "name": "stderr",
               "output_type": "stream",
               "text": [
                  "Clipping input data to the valid range for imshow with RGB data ([0..1] for floats or [0..255] for integers).\n"
               ]
            },
            {
               "data": {
                  "image/png": "[encoded data removed]",
                  "text/plain": [
                     "<Figure size 640x480 with 1 Axes>"
                  ]
               },
               "metadata": {},
               "output_type": "display_data"
            }
         ],
         "source": [
            "im = TwoSpheresExample().render(output_shape = [144,256])\n",
            "im.show()\n",
            "\n",
            "# ref = Image(path=\"./ref/step1.png\").GetFloatCopy();\n",
            "# ref.show()\n",
            "# print(\"Max diff with reference is {}\".format(np.abs(ref.pixels-im.pixels).max()))"
         ]
      },
      {
         "cell_type": "code",
         "execution_count": null,
         "id": "32b21532",
         "metadata": {},
         "outputs": [],
         "source": []
      },
      {
         "cell_type": "markdown",
         "id": "4897cd3c",
         "metadata": {},
         "source": [
            "### Step 2-7\n",
            "See the [assignment docs](https://www.cs.cornell.edu/courses/cs4620/2023fa/assignments/docs/category/assignment-4)"
         ]
      },
      {
         "cell_type": "code",
         "execution_count": 3,
         "id": "c18eddda",
         "metadata": {},
         "outputs": [
            {
               "name": "stderr",
               "output_type": "stream",
               "text": [
                  "Clipping input data to the valid range for imshow with RGB data ([0..1] for floats or [0..255] for integers).\n"
               ]
            },
            {
               "data": {
                  "image/png": "[encoded data removed]",
                  "text/plain": [
                     "<Figure size 640x480 with 1 Axes>"
                  ]
               },
               "metadata": {},
               "output_type": "display_data"
            }
         ],
         "source": [
            "im = TwoSpheresExample().render(output_shape = [144,256])\n",
            "im.show()"
         ]
      },
      {
         "cell_type": "code",
         "execution_count": 26,
         "id": "5bb41022",
         "metadata": {},
         "outputs": [
            {
               "name": "stderr",
               "output_type": "stream",
               "text": [
                  "Clipping input data to the valid range for imshow with RGB data ([0..1] for floats or [0..255] for integers).\n"
               ]
            },
            {
               "data": {
                  "image/png": "[encoded data removed]",
                  "text/plain": [
                     "<Figure size 640x480 with 1 Axes>"
                  ]
               },
               "metadata": {},
               "output_type": "display_data"
            }
         ],
         "source": [
            "im = ThreeSpheresExample().render(output_shape = [144,256])\n",
            "im.show()"
         ]
      },
      {
         "cell_type": "code",
         "execution_count": null,
         "id": "6a726bb7",
         "metadata": {},
         "outputs": [],
         "source": []
      }
   ],
   "metadata": {
      "kernelspec": {
         "display_name": "Python 3 (ipykernel)",
         "language": "python",
         "name": "python3"
      },
      "language_info": {
         "codemirror_mode": {
            "name": "ipython",
            "version": 3
         },
         "file_extension": ".py",
         "mimetype": "text/x-python",
         "name": "python",
         "nbconvert_exporter": "python",
         "pygments_lexer": "ipython3",
         "version": "3.10.0"
      }
   },
   "nbformat": 4,
   "nbformat_minor": 5
}
