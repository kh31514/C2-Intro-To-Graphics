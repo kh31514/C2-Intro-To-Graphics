{
   "cells": [
      {
         "cell_type": "code",
         "execution_count": 11,
         "id": "a6d1f6e6",
         "metadata": {},
         "outputs": [],
         "source": [
            "from ExampleSceneDef import *\n",
            "from PIL import Image"
         ]
      },
      {
         "cell_type": "code",
         "execution_count": null,
         "id": "f6b4a5fb",
         "metadata": {},
         "outputs": [],
         "source": []
      },
      {
         "cell_type": "markdown",
         "id": "9c95e9a5",
         "metadata": {},
         "source": [
            "### Step 0\n",
            "When you have completed Step 0 your the image below should look like:\n",
            "![Step0](./ref/step0.png)"
         ]
      },
      {
         "cell_type": "code",
         "execution_count": 13,
         "id": "a98a17ae",
         "metadata": {},
         "outputs": [
            {
               "name": "stdout",
               "output_type": "stream",
               "text": [
                  "<ImLite.Image object at 0x7fc661365840>\n"
               ]
            },
            {
               "data": {
                  "image/png": "[encoded data removed]",
                  "text/plain": [
                     "<Figure size 640x480 with 1 Axes>"
                  ]
               },
               "metadata": {},
               "output_type": "display_data"
            }
         ],
         "source": [
            "im = OrthoFriendlyExample().render()\n",
            "im.show()\n",
            "ref_array = np.array(Image.open(\"./ref/step0.png\"))\n",
            "#diff = ref_array-np.array(im.getdata())\n",
            "print(im)\n",
            "#im.writeToFile(\"OrthoFriendlyExample.png\")\n",
            "# TODO: testing here to compare the 2 images"
         ]
      },
      {
         "cell_type": "code",
         "execution_count": null,
         "id": "6955ddb5",
         "metadata": {},
         "outputs": [],
         "source": []
      },
      {
         "cell_type": "markdown",
         "id": "71215446",
         "metadata": {},
         "source": [
            "### Step 1\n",
            "When you have completed Step 0 your the image below should look like:\n",
            "![Step1](./ref/step1.png)"
         ]
      },
      {
         "cell_type": "code",
         "execution_count": 15,
         "id": "ae1211ee",
         "metadata": {
            "scrolled": false
         },
         "outputs": [
            {
               "name": "stdout",
               "output_type": "stream",
               "text": [
                  "Unexpected exception formatting exception. Falling back to standard exception\n"
               ]
            },
            {
               "name": "stderr",
               "output_type": "stream",
               "text": [
                  "Traceback (most recent call last):\n",
                  "  File \"/Users/lillianhwang-geddes/opt/anaconda3/envs/4620-A3/lib/python3.10/site-packages/IPython/core/interactiveshell.py\", line 3526, in run_code\n",
                  "    exec(code_obj, self.user_global_ns, self.user_ns)\n",
                  "  File \"/var/folders/_t/pglkptdj6sd8jzrnz00hc5tm0000gn/T/ipykernel_3523/3801132722.py\", line 1, in <module>\n",
                  "    im = TwoSpheresExample().render(output_shape = [144,256])\n",
                  "  File \"/Users/lillianhwang-geddes/Documents/College/Graphics/A4-Intro-To-Graphics/ExampleSceneDef.py\", line 18, in render\n",
                  "    pix = ray.render_image(self.camera, self.scene, self.lights, output_shape[1], output_shape[0]);\n",
                  "  File \"/Users/lillianhwang-geddes/Documents/College/Graphics/A4-Intro-To-Graphics/ray.py\", line 379, in render_image\n",
                  "    output[i][j] += light.illuminate(ray, hit, scene)\n",
                  "numpy.core._exceptions._UFuncOutputCastingError: Cannot cast ufunc 'add' output from dtype('O') to dtype('float32') with casting rule 'same_kind'\n",
                  "\n",
                  "During handling of the above exception, another exception occurred:\n",
                  "\n",
                  "Traceback (most recent call last):\n",
                  "  File \"/Users/lillianhwang-geddes/opt/anaconda3/envs/4620-A3/lib/python3.10/site-packages/IPython/core/interactiveshell.py\", line 2120, in showtraceback\n",
                  "    stb = self.InteractiveTB.structured_traceback(\n",
                  "  File \"/Users/lillianhwang-geddes/opt/anaconda3/envs/4620-A3/lib/python3.10/site-packages/IPython/core/ultratb.py\", line 1435, in structured_traceback\n",
                  "    return FormattedTB.structured_traceback(\n",
                  "  File \"/Users/lillianhwang-geddes/opt/anaconda3/envs/4620-A3/lib/python3.10/site-packages/IPython/core/ultratb.py\", line 1326, in structured_traceback\n",
                  "    return VerboseTB.structured_traceback(\n",
                  "  File \"/Users/lillianhwang-geddes/opt/anaconda3/envs/4620-A3/lib/python3.10/site-packages/IPython/core/ultratb.py\", line 1173, in structured_traceback\n",
                  "    formatted_exception = self.format_exception_as_a_whole(etype, evalue, etb, number_of_lines_of_context,\n",
                  "  File \"/Users/lillianhwang-geddes/opt/anaconda3/envs/4620-A3/lib/python3.10/site-packages/IPython/core/ultratb.py\", line 1088, in format_exception_as_a_whole\n",
                  "    frames.append(self.format_record(record))\n",
                  "  File \"/Users/lillianhwang-geddes/opt/anaconda3/envs/4620-A3/lib/python3.10/site-packages/IPython/core/ultratb.py\", line 970, in format_record\n",
                  "    frame_info.lines, Colors, self.has_colors, lvals\n",
                  "  File \"/Users/lillianhwang-geddes/opt/anaconda3/envs/4620-A3/lib/python3.10/site-packages/IPython/core/ultratb.py\", line 792, in lines\n",
                  "    return self._sd.lines\n",
                  "  File \"/Users/lillianhwang-geddes/opt/anaconda3/envs/4620-A3/lib/python3.10/site-packages/stack_data/utils.py\", line 145, in cached_property_wrapper\n",
                  "    value = obj.__dict__[self.func.__name__] = self.func(obj)\n",
                  "  File \"/Users/lillianhwang-geddes/opt/anaconda3/envs/4620-A3/lib/python3.10/site-packages/stack_data/core.py\", line 698, in lines\n",
                  "    pieces = self.included_pieces\n",
                  "  File \"/Users/lillianhwang-geddes/opt/anaconda3/envs/4620-A3/lib/python3.10/site-packages/stack_data/utils.py\", line 145, in cached_property_wrapper\n",
                  "    value = obj.__dict__[self.func.__name__] = self.func(obj)\n",
                  "  File \"/Users/lillianhwang-geddes/opt/anaconda3/envs/4620-A3/lib/python3.10/site-packages/stack_data/core.py\", line 649, in included_pieces\n",
                  "    pos = scope_pieces.index(self.executing_piece)\n",
                  "  File \"/Users/lillianhwang-geddes/opt/anaconda3/envs/4620-A3/lib/python3.10/site-packages/stack_data/utils.py\", line 145, in cached_property_wrapper\n",
                  "    value = obj.__dict__[self.func.__name__] = self.func(obj)\n",
                  "  File \"/Users/lillianhwang-geddes/opt/anaconda3/envs/4620-A3/lib/python3.10/site-packages/stack_data/core.py\", line 628, in executing_piece\n",
                  "    return only(\n",
                  "  File \"/Users/lillianhwang-geddes/opt/anaconda3/envs/4620-A3/lib/python3.10/site-packages/executing/executing.py\", line 164, in only\n",
                  "    raise NotOneValueFound('Expected one value, found 0')\n",
                  "executing.executing.NotOneValueFound: Expected one value, found 0\n"
               ]
            }
         ],
         "source": [
            "im = TwoSpheresExample().render(output_shape = [144,256])\n",
            "im.show()\n",
            "\n",
            "# ref = Image(path=\"./ref/step1.png\").GetFloatCopy();\n",
            "# ref.show()\n",
            "# print(\"Max diff with reference is {}\".format(np.abs(ref.pixels-im.pixels).max()))"
         ]
      },
      {
         "cell_type": "code",
         "execution_count": null,
         "id": "32b21532",
         "metadata": {},
         "outputs": [],
         "source": []
      },
      {
         "cell_type": "markdown",
         "id": "4897cd3c",
         "metadata": {},
         "source": [
            "### Step 2-7\n",
            "See the [assignment docs](https://www.cs.cornell.edu/courses/cs4620/2023fa/assignments/docs/category/assignment-4)"
         ]
      },
      {
         "cell_type": "code",
         "execution_count": 5,
         "id": "c18eddda",
         "metadata": {},
         "outputs": [
            {
               "name": "stderr",
               "output_type": "stream",
               "text": [
                  "Clipping input data to the valid range for imshow with RGB data ([0..1] for floats or [0..255] for integers).\n"
               ]
            },
            {
               "data": {
                  "image/png": "[encoded data removed]",
                  "text/plain": [
                     "<Figure size 640x480 with 1 Axes>"
                  ]
               },
               "metadata": {},
               "output_type": "display_data"
            }
         ],
         "source": [
            "im = TwoSpheresExample().render(output_shape = [144,256])\n",
            "im.show()"
         ]
      },
      {
         "cell_type": "code",
         "execution_count": 6,
         "id": "5bb41022",
         "metadata": {},
         "outputs": [
            {
               "name": "stderr",
               "output_type": "stream",
               "text": [
                  "Clipping input data to the valid range for imshow with RGB data ([0..1] for floats or [0..255] for integers).\n"
               ]
            },
            {
               "data": {
                  "image/png": "[encoded data removed]",
                  "text/plain": [
                     "<Figure size 640x480 with 1 Axes>"
                  ]
               },
               "metadata": {},
               "output_type": "display_data"
            }
         ],
         "source": [
            "im = ThreeSpheresExample().render(output_shape = [144,256])\n",
            "im.show()"
         ]
      },
      {
         "cell_type": "code",
         "execution_count": null,
         "id": "6a726bb7",
         "metadata": {},
         "outputs": [],
         "source": []
      }
   ],
   "metadata": {
      "kernelspec": {
         "display_name": "Python 3 (ipykernel)",
         "language": "python",
         "name": "python3"
      },
      "language_info": {
         "codemirror_mode": {
            "name": "ipython",
            "version": 3
         },
         "file_extension": ".py",
         "mimetype": "text/x-python",
         "name": "python",
         "nbconvert_exporter": "python",
         "pygments_lexer": "ipython3",
         "version": "3.10.0"
      }
   },
   "nbformat": 4,
   "nbformat_minor": 5
}
