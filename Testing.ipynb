{
 "cells": [
  {
   "cell_type": "code",
   "execution_count": 3,
   "id": "a6d1f6e6",
   "metadata": {},
   "outputs": [],
   "source": [
    "from ExampleSceneDef import *"
   ]
  },
  {
   "cell_type": "code",
   "execution_count": null,
   "id": "f6b4a5fb",
   "metadata": {},
   "outputs": [],
   "source": []
  },
  {
   "cell_type": "markdown",
   "id": "9c95e9a5",
   "metadata": {},
   "source": [
    "### Step 0\n",
    "When you have completed Step 0 your the image below should look like:\n",
    "![Step0](./ref/step0.png)"
   ]
  },
  {
   "cell_type": "code",
   "execution_count": 4,
   "id": "a98a17ae",
   "metadata": {},
   "outputs": [
    {
     "name": "stderr",
     "output_type": "stream",
     "text": [
      "Clipping input data to the valid range for imshow with RGB data ([0..1] for floats or [0..255] for integers).\n"
     ]
    },
    {
     "data": {
      "image/png": "[encoded data removed]",
      "text/plain": [
       "<Figure size 640x480 with 1 Axes>"
      ]
     },
     "metadata": {},
     "output_type": "display_data"
    }
   ],
   "source": [
    "im = OrthoFriendlyExample().render()\n",
    "im.show()\n",
    "#im.writeToFile(\"OrthoFriendlyExample.png\")"
   ]
  },
  {
   "cell_type": "code",
   "execution_count": null,
   "id": "6955ddb5",
   "metadata": {},
   "outputs": [],
   "source": []
  },
  {
   "cell_type": "markdown",
   "id": "71215446",
   "metadata": {},
   "source": [
    "### Step 1\n",
    "When you have completed Step 0 your the image below should look like:\n",
    "![Step1](./ref/step1.png)"
   ]
  },
  {
   "cell_type": "code",
   "execution_count": 5,
   "id": "ae1211ee",
   "metadata": {
    "scrolled": false
   },
   "outputs": [
    {
     "ename": "IndexError",
     "evalue": "index 144 is out of bounds for axis 0 with size 144",
     "output_type": "error",
     "traceback": [
      "\u001b[0;31m---------------------------------------------------------------------------\u001b[0m",
      "\u001b[0;31mIndexError\u001b[0m                                Traceback (most recent call last)",
      "\u001b[1;32m/Users/lillianhwang-geddes/Documents/College/Graphics/A4-Intro-To-Graphics/Testing.ipynb Cell 7\u001b[0m line \u001b[0;36m1\n\u001b[0;32m----> <a href='vscode-notebook-cell:/Users/lillianhwang-geddes/Documents/College/Graphics/A4-Intro-To-Graphics/Testing.ipynb#W6sZmlsZQ%3D%3D?line=0'>1</a>\u001b[0m im \u001b[39m=\u001b[39m TwoSpheresExample()\u001b[39m.\u001b[39;49mrender(output_shape \u001b[39m=\u001b[39;49m [\u001b[39m144\u001b[39;49m,\u001b[39m256\u001b[39;49m])\n\u001b[1;32m      <a href='vscode-notebook-cell:/Users/lillianhwang-geddes/Documents/College/Graphics/A4-Intro-To-Graphics/Testing.ipynb#W6sZmlsZQ%3D%3D?line=1'>2</a>\u001b[0m im\u001b[39m.\u001b[39mshow()\n",
      "File \u001b[0;32m~/Documents/College/Graphics/A4-Intro-To-Graphics/ExampleSceneDef.py:18\u001b[0m, in \u001b[0;36mExampleSceneDef.render\u001b[0;34m(self, output_path, output_shape, srgb_whitepoint)\u001b[0m\n\u001b[1;32m     16\u001b[0m \u001b[39mif\u001b[39;00m(srgb_whitepoint \u001b[39mis\u001b[39;00m \u001b[39mNone\u001b[39;00m):\n\u001b[1;32m     17\u001b[0m     srgb_whitepoint \u001b[39m=\u001b[39m \u001b[39m1.0\u001b[39m;\n\u001b[0;32m---> 18\u001b[0m pix \u001b[39m=\u001b[39m ray\u001b[39m.\u001b[39;49mrender_image(\u001b[39mself\u001b[39;49m\u001b[39m.\u001b[39;49mcamera, \u001b[39mself\u001b[39;49m\u001b[39m.\u001b[39;49mscene, \u001b[39mself\u001b[39;49m\u001b[39m.\u001b[39;49mlights, output_shape[\u001b[39m1\u001b[39;49m], output_shape[\u001b[39m0\u001b[39;49m]);\n\u001b[1;32m     19\u001b[0m cam_img_ui8 \u001b[39m=\u001b[39m to_srgb8(pix \u001b[39m/\u001b[39m srgb_whitepoint)\n\u001b[1;32m     20\u001b[0m im \u001b[39m=\u001b[39m Image(pixels\u001b[39m=\u001b[39mpix);\n",
      "File \u001b[0;32m~/Documents/College/Graphics/A4-Intro-To-Graphics/ray.py:301\u001b[0m, in \u001b[0;36mrender_image\u001b[0;34m(camera, scene, lights, nx, ny)\u001b[0m\n\u001b[1;32m    299\u001b[0m             output[i][j] \u001b[39m=\u001b[39m [\u001b[39m0\u001b[39m,\u001b[39m0\u001b[39m,\u001b[39m0\u001b[39m]\n\u001b[1;32m    300\u001b[0m         \u001b[39melse\u001b[39;00m:\n\u001b[0;32m--> 301\u001b[0m             output[j][j] \u001b[39m=\u001b[39m [\u001b[39m255\u001b[39m, \u001b[39m255\u001b[39m, \u001b[39m255\u001b[39m]\n\u001b[1;32m    302\u001b[0m         \u001b[39m# add to output image\u001b[39;00m\n\u001b[1;32m    304\u001b[0m \u001b[39mreturn\u001b[39;00m output\n",
      "\u001b[0;31mIndexError\u001b[0m: index 144 is out of bounds for axis 0 with size 144"
     ]
    }
   ],
   "source": [
    "im = TwoSpheresExample().render(output_shape = [144,256])\n",
    "im.show()\n",
    "\n",
    "# ref = Image(path=\"./ref/step1.png\").GetFloatCopy();\n",
    "# ref.show()\n",
    "# print(\"Max diff with reference is {}\".format(np.abs(ref.pixels-im.pixels).max()))"
   ]
  },
  {
   "cell_type": "code",
   "execution_count": null,
   "id": "32b21532",
   "metadata": {},
   "outputs": [],
   "source": []
  },
  {
   "cell_type": "markdown",
   "id": "4897cd3c",
   "metadata": {},
   "source": [
    "### Step 2-7\n",
    "See the [assignment docs](https://www.cs.cornell.edu/courses/cs4620/2023fa/assignments/docs/category/assignment-4)"
   ]
  },
  {
   "cell_type": "code",
   "execution_count": null,
   "id": "c18eddda",
   "metadata": {},
   "outputs": [],
   "source": [
    "im = TwoSpheresExample().render(output_shape = [144,256])\n",
    "im.show()"
   ]
  },
  {
   "cell_type": "code",
   "execution_count": null,
   "id": "5bb41022",
   "metadata": {},
   "outputs": [],
   "source": [
    "im = ThreeSpheresExample().render(output_shape = [144,256])\n",
    "im.show()"
   ]
  },
  {
   "cell_type": "code",
   "execution_count": null,
   "id": "6a726bb7",
   "metadata": {},
   "outputs": [],
   "source": []
  }
 ],
 "metadata": {
  "kernelspec": {
   "display_name": "Python 3 (ipykernel)",
   "language": "python",
   "name": "python3"
  },
  "language_info": {
   "codemirror_mode": {
    "name": "ipython",
    "version": 3
   },
   "file_extension": ".py",
   "mimetype": "text/x-python",
   "name": "python",
   "nbconvert_exporter": "python",
   "pygments_lexer": "ipython3",
   "version": "3.10.0"
  }
 },
 "nbformat": 4,
 "nbformat_minor": 5
}
