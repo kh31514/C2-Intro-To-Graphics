{
   "cells": [
      {
         "cell_type": "code",
         "execution_count": 43,
         "id": "a6d1f6e6",
         "metadata": {},
         "outputs": [],
         "source": [
            "from ExampleSceneDef import *\n",
            "from PIL import Image"
         ]
      },
      {
         "cell_type": "code",
         "execution_count": null,
         "id": "f6b4a5fb",
         "metadata": {},
         "outputs": [],
         "source": []
      },
      {
         "cell_type": "markdown",
         "id": "9c95e9a5",
         "metadata": {},
         "source": [
            "### Step 0\n",
            "When you have completed Step 0 your the image below should look like:\n",
            "![Step0](./ref/step0.png)"
         ]
      },
      {
         "cell_type": "code",
         "execution_count": 13,
         "id": "a98a17ae",
         "metadata": {},
         "outputs": [
            {
               "name": "stdout",
               "output_type": "stream",
               "text": [
                  "<ImLite.Image object at 0x7fc661365840>\n"
               ]
            },
            {
               "data": {
                  "image/png": "[encoded data removed]",
                  "text/plain": [
                     "<Figure size 640x480 with 1 Axes>"
                  ]
               },
               "metadata": {},
               "output_type": "display_data"
            }
         ],
         "source": [
            "im = OrthoFriendlyExample().render()\n",
            "im.show()\n",
            "ref_array = np.array(Image.open(\"./ref/step0.png\"))\n",
            "#diff = ref_array-np.array(im.getdata())\n",
            "print(im)\n",
            "#im.writeToFile(\"OrthoFriendlyExample.png\")\n",
            "# TODO: testing here to compare the 2 images"
         ]
      },
      {
         "cell_type": "code",
         "execution_count": null,
         "id": "6955ddb5",
         "metadata": {},
         "outputs": [],
         "source": []
      },
      {
         "cell_type": "markdown",
         "id": "71215446",
         "metadata": {},
         "source": [
            "### Step 1\n",
            "When you have completed Step 0 your the image below should look like:\n",
            "![Step1](./ref/step1.png)"
         ]
      },
      {
         "cell_type": "code",
         "execution_count": 42,
         "id": "ae1211ee",
         "metadata": {
            "scrolled": false
         },
         "outputs": [
            {
               "ename": "KeyboardInterrupt",
               "evalue": "",
               "output_type": "error",
               "traceback": [
                  "\u001b[0;31m---------------------------------------------------------------------------\u001b[0m",
                  "\u001b[0;31mKeyboardInterrupt\u001b[0m                         Traceback (most recent call last)",
                  "\u001b[1;32m/Users/lillianhwang-geddes/Documents/College/Graphics/A4-Intro-To-Graphics/Testing.ipynb Cell 7\u001b[0m line \u001b[0;36m1\n\u001b[0;32m----> <a href='vscode-notebook-cell:/Users/lillianhwang-geddes/Documents/College/Graphics/A4-Intro-To-Graphics/Testing.ipynb#W6sZmlsZQ%3D%3D?line=0'>1</a>\u001b[0m im \u001b[39m=\u001b[39m TwoSpheresExample()\u001b[39m.\u001b[39;49mrender(output_shape \u001b[39m=\u001b[39;49m [\u001b[39m144\u001b[39;49m,\u001b[39m256\u001b[39;49m])\n\u001b[1;32m      <a href='vscode-notebook-cell:/Users/lillianhwang-geddes/Documents/College/Graphics/A4-Intro-To-Graphics/Testing.ipynb#W6sZmlsZQ%3D%3D?line=1'>2</a>\u001b[0m im\u001b[39m.\u001b[39mshow()\n",
                  "File \u001b[0;32m~/Documents/College/Graphics/A4-Intro-To-Graphics/ExampleSceneDef.py:18\u001b[0m, in \u001b[0;36mExampleSceneDef.render\u001b[0;34m(self, output_path, output_shape, srgb_whitepoint)\u001b[0m\n\u001b[1;32m     16\u001b[0m \u001b[39mif\u001b[39;00m(srgb_whitepoint \u001b[39mis\u001b[39;00m \u001b[39mNone\u001b[39;00m):\n\u001b[1;32m     17\u001b[0m     srgb_whitepoint \u001b[39m=\u001b[39m \u001b[39m1.0\u001b[39m;\n\u001b[0;32m---> 18\u001b[0m pix \u001b[39m=\u001b[39m ray\u001b[39m.\u001b[39;49mrender_image(\u001b[39mself\u001b[39;49m\u001b[39m.\u001b[39;49mcamera, \u001b[39mself\u001b[39;49m\u001b[39m.\u001b[39;49mscene, \u001b[39mself\u001b[39;49m\u001b[39m.\u001b[39;49mlights, output_shape[\u001b[39m1\u001b[39;49m], output_shape[\u001b[39m0\u001b[39;49m]);\n\u001b[1;32m     19\u001b[0m cam_img_ui8 \u001b[39m=\u001b[39m to_srgb8(pix \u001b[39m/\u001b[39m srgb_whitepoint)\n\u001b[1;32m     20\u001b[0m im \u001b[39m=\u001b[39m Image(pixels\u001b[39m=\u001b[39mpix);\n",
                  "File \u001b[0;32m~/Documents/College/Graphics/A4-Intro-To-Graphics/ray.py:382\u001b[0m, in \u001b[0;36mrender_image\u001b[0;34m(camera, scene, lights, nx, ny)\u001b[0m\n\u001b[1;32m    380\u001b[0m image_coords \u001b[39m=\u001b[39m m \u001b[39m@\u001b[39m texture_coords\n\u001b[1;32m    381\u001b[0m ray_dir \u001b[39m=\u001b[39m [\u001b[39m0.\u001b[39m, \u001b[39m0.\u001b[39m, \u001b[39m-\u001b[39m\u001b[39m1.\u001b[39m]\n\u001b[0;32m--> 382\u001b[0m ray \u001b[39m=\u001b[39m camera\u001b[39m.\u001b[39;49mgenerate_ray(texture_coords)\n\u001b[1;32m    383\u001b[0m \u001b[39m# print(ray.origin)\u001b[39;00m\n\u001b[1;32m    385\u001b[0m \u001b[39mif\u001b[39;00m i \u001b[39m>\u001b[39m \u001b[39m140\u001b[39m:\n",
                  "File \u001b[0;32m~/Documents/College/Graphics/A4-Intro-To-Graphics/ray.py:186\u001b[0m, in \u001b[0;36mCamera.generate_ray\u001b[0;34m(self, img_point)\u001b[0m\n\u001b[1;32m    182\u001b[0m \u001b[39m# TODO A4 implement this function\u001b[39;00m\n\u001b[1;32m    183\u001b[0m \u001b[39m# generate ray using perspective\u001b[39;00m\n\u001b[1;32m    185\u001b[0m img_point[\u001b[39m1\u001b[39m]\u001b[39m=\u001b[39m\u001b[39m1\u001b[39m\u001b[39m-\u001b[39mimg_point[\u001b[39m1\u001b[39m]\n\u001b[0;32m--> 186\u001b[0m d \u001b[39m=\u001b[39m np\u001b[39m.\u001b[39;49mlinalg\u001b[39m.\u001b[39;49mnorm(\u001b[39mself\u001b[39;49m\u001b[39m.\u001b[39;49meye\u001b[39m-\u001b[39;49m\u001b[39mself\u001b[39;49m\u001b[39m.\u001b[39;49mtarget)\n\u001b[1;32m    187\u001b[0m h \u001b[39m=\u001b[39m d\u001b[39m*\u001b[39mnp\u001b[39m.\u001b[39mtan(\u001b[39mself\u001b[39m\u001b[39m.\u001b[39mvfov\u001b[39m/\u001b[39m\u001b[39m2\u001b[39m)\n\u001b[1;32m    188\u001b[0m w \u001b[39m=\u001b[39m h\u001b[39m*\u001b[39m\u001b[39mself\u001b[39m\u001b[39m.\u001b[39maspect\n",
                  "File \u001b[0;32m~/opt/anaconda3/envs/4620-A3/lib/python3.10/site-packages/numpy/linalg/linalg.py:2552\u001b[0m, in \u001b[0;36mnorm\u001b[0;34m(x, ord, axis, keepdims)\u001b[0m\n\u001b[1;32m   2550\u001b[0m     sqnorm \u001b[39m=\u001b[39m x_real\u001b[39m.\u001b[39mdot(x_real) \u001b[39m+\u001b[39m x_imag\u001b[39m.\u001b[39mdot(x_imag)\n\u001b[1;32m   2551\u001b[0m \u001b[39melse\u001b[39;00m:\n\u001b[0;32m-> 2552\u001b[0m     sqnorm \u001b[39m=\u001b[39m x\u001b[39m.\u001b[39;49mdot(x)\n\u001b[1;32m   2553\u001b[0m ret \u001b[39m=\u001b[39m sqrt(sqnorm)\n\u001b[1;32m   2554\u001b[0m \u001b[39mif\u001b[39;00m keepdims:\n",
                  "\u001b[0;31mKeyboardInterrupt\u001b[0m: "
               ]
            }
         ],
         "source": [
            "im = TwoSpheresExample().render(output_shape = [144,256])\n",
            "im.show()\n",
            "\n",
            "# ref = Image(path=\"./ref/step1.png\").GetFloatCopy();\n",
            "# ref.show()\n",
            "# print(\"Max diff with reference is {}\".format(np.abs(ref.pixels-im.pixels).max()))"
         ]
      },
      {
         "cell_type": "code",
         "execution_count": null,
         "id": "32b21532",
         "metadata": {},
         "outputs": [],
         "source": []
      },
      {
         "cell_type": "markdown",
         "id": "4897cd3c",
         "metadata": {},
         "source": [
            "### Step 2-7\n",
            "See the [assignment docs](https://www.cs.cornell.edu/courses/cs4620/2023fa/assignments/docs/category/assignment-4)"
         ]
      },
      {
         "cell_type": "code",
         "execution_count": 3,
         "id": "c18eddda",
         "metadata": {},
         "outputs": [
            {
               "name": "stderr",
               "output_type": "stream",
               "text": [
                  "Clipping input data to the valid range for imshow with RGB data ([0..1] for floats or [0..255] for integers).\n"
               ]
            },
            {
               "data": {
                  "image/png": "[encoded data removed]",
                  "text/plain": [
                     "<Figure size 640x480 with 1 Axes>"
                  ]
               },
               "metadata": {},
               "output_type": "display_data"
            }
         ],
         "source": [
            "im = TwoSpheresExample().render(output_shape = [144,256])\n",
            "im.show()"
         ]
      },
      {
         "cell_type": "code",
         "execution_count": 46,
         "id": "5bb41022",
         "metadata": {},
         "outputs": [
            {
               "name": "stderr",
               "output_type": "stream",
               "text": [
                  "Clipping input data to the valid range for imshow with RGB data ([0..1] for floats or [0..255] for integers).\n"
               ]
            },
            {
               "name": "stdout",
               "output_type": "stream",
               "text": [
                  "[[[ 0.2       0.3       0.5     ]\n",
                  "  [ 0.2       0.3       0.5     ]\n",
                  "  [ 0.2       0.3       0.5     ]\n",
                  "  ...\n",
                  "  [ 0.2       0.3       0.5     ]\n",
                  "  [ 0.2       0.3       0.5     ]\n",
                  "  [ 0.2       0.3       0.5     ]]\n",
                  "\n",
                  " [[ 0.2       0.3       0.5     ]\n",
                  "  [ 0.2       0.3       0.5     ]\n",
                  "  [ 0.2       0.3       0.5     ]\n",
                  "  ...\n",
                  "  [ 0.2       0.3       0.5     ]\n",
                  "  [ 0.2       0.3       0.5     ]\n",
                  "  [ 0.2       0.3       0.5     ]]\n",
                  "\n",
                  " [[ 0.2       0.3       0.5     ]\n",
                  "  [ 0.2       0.3       0.5     ]\n",
                  "  [ 0.2       0.3       0.5     ]\n",
                  "  ...\n",
                  "  [ 0.2       0.3       0.5     ]\n",
                  "  [ 0.2       0.3       0.5     ]\n",
                  "  [ 0.2       0.3       0.5     ]]\n",
                  "\n",
                  " ...\n",
                  "\n",
                  " [[39.483772 39.483772 39.483772]\n",
                  "  [39.52172  39.52172  39.52172 ]\n",
                  "  [39.559612 39.559612 39.559612]\n",
                  "  ...\n",
                  "  [47.400974 47.400974 47.400974]\n",
                  "  [47.425488 47.425488 47.425488]\n",
                  "  [47.44993  47.44993  47.44993 ]]\n",
                  "\n",
                  " [[39.553734 39.553734 39.553734]\n",
                  "  [39.591404 39.591404 39.591404]\n",
                  "  [39.62901  39.62901  39.62901 ]\n",
                  "  ...\n",
                  "  [47.429604 47.429604 47.429604]\n",
                  "  [47.45407  47.45407  47.45407 ]\n",
                  "  [47.478477 47.478477 47.478477]]\n",
                  "\n",
                  " [[39.62261  39.62261  39.62261 ]\n",
                  "  [39.66     39.66     39.66    ]\n",
                  "  [39.697334 39.697334 39.697334]\n",
                  "  ...\n",
                  "  [47.457546 47.457546 47.457546]\n",
                  "  [47.481976 47.481976 47.481976]\n",
                  "  [47.50634  47.50634  47.50634 ]]]\n"
               ]
            },
            {
               "data": {
                  "image/png": "[encoded data removed]",
                  "text/plain": [
                     "<Figure size 640x480 with 1 Axes>"
                  ]
               },
               "metadata": {},
               "output_type": "display_data"
            }
         ],
         "source": [
            "im = ThreeSpheresExample().render(output_shape = [144,256])\n",
            "im.show()\n",
            "print(im.pixels)"
         ]
      },
      {
         "cell_type": "code",
         "execution_count": null,
         "id": "6a726bb7",
         "metadata": {},
         "outputs": [],
         "source": []
      }
   ],
   "metadata": {
      "kernelspec": {
         "display_name": "Python 3 (ipykernel)",
         "language": "python",
         "name": "python3"
      },
      "language_info": {
         "codemirror_mode": {
            "name": "ipython",
            "version": 3
         },
         "file_extension": ".py",
         "mimetype": "text/x-python",
         "name": "python",
         "nbconvert_exporter": "python",
         "pygments_lexer": "ipython3",
         "version": "3.10.0"
      }
   },
   "nbformat": 4,
   "nbformat_minor": 5
}
